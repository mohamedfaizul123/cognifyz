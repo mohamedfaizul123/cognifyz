{
  "nbformat": 4,
  "nbformat_minor": 0,
  "metadata": {
    "colab": {
      "provenance": []
    },
    "kernelspec": {
      "name": "python3",
      "display_name": "Python 3"
    },
    "language_info": {
      "name": "python"
    }
  },
  "cells": [
    {
      "cell_type": "markdown",
      "source": [
        "**TASK:1 Table Booking and Online Delivery**"
      ],
      "metadata": {
        "id": "oBEpMY_nFo8E"
      }
    },
    {
      "cell_type": "markdown",
      "source": [
        "**Importing Libraries**"
      ],
      "metadata": {
        "id": "UrBVZHDZFwhd"
      }
    },
    {
      "cell_type": "code",
      "source": [
        "import pandas as pd\n"
      ],
      "metadata": {
        "id": "hNGIdVJ-F6oc"
      },
      "execution_count": 1,
      "outputs": []
    },
    {
      "cell_type": "markdown",
      "source": [
        "**Loading the Dataset**"
      ],
      "metadata": {
        "id": "xHnVbNDCGAfc"
      }
    },
    {
      "cell_type": "code",
      "source": [
        "df = pd.read_csv(\"/content/Dataset .csv\")\n"
      ],
      "metadata": {
        "id": "yEV1WxvdGCAX"
      },
      "execution_count": 2,
      "outputs": []
    },
    {
      "cell_type": "markdown",
      "source": [
        "**Calculating**"
      ],
      "metadata": {
        "id": "ji1cnJACGQQJ"
      }
    },
    {
      "cell_type": "code",
      "source": [
        "total_restaurants = len(df)\n",
        "table_booking_count = df['Has Table booking'].value_counts().get('Yes', 0)\n",
        "online_delivery_count = df['Has Online delivery'].value_counts().get('Yes', 0)\n",
        "table_booking_percentage = (table_booking_count / total_restaurants) * 100\n",
        "online_delivery_percentage = (online_delivery_count / total_restaurants) * 100\n"
      ],
      "metadata": {
        "id": "vivhuMfpGVyf"
      },
      "execution_count": 3,
      "outputs": []
    },
    {
      "cell_type": "markdown",
      "source": [
        "**Printing Percentage Information**"
      ],
      "metadata": {
        "id": "yVgvsX04Ggf0"
      }
    },
    {
      "cell_type": "code",
      "source": [
        "print(\"Percentage of Restaurants Offering Table Booking: {:.2f}%\".format(table_booking_percentage))\n",
        "print(\"Percentage of Restaurants Offering Online Delivery: {:.2f}%\".format(online_delivery_percentage))\n"
      ],
      "metadata": {
        "colab": {
          "base_uri": "https://localhost:8080/"
        },
        "id": "hSg5HWWeGjy3",
        "outputId": "97d9f9d4-df24-4081-8dc2-e2f89d94313c"
      },
      "execution_count": 4,
      "outputs": [
        {
          "output_type": "stream",
          "name": "stdout",
          "text": [
            "Percentage of Restaurants Offering Table Booking: 12.12%\n",
            "Percentage of Restaurants Offering Online Delivery: 25.66%\n"
          ]
        }
      ]
    },
    {
      "cell_type": "markdown",
      "source": [
        "**Printing Average Rating**"
      ],
      "metadata": {
        "id": "VpN51vEkGm65"
      }
    },
    {
      "cell_type": "code",
      "source": [
        "average_rating_with_table_booking = df[df['Has Table booking'] == 'Yes']['Aggregate rating'].mean()\n",
        "average_rating_without_table_booking = df[df['Has Table booking'] == 'No']['Aggregate rating'].mean()\n",
        "print(\"\\nAverage Rating of Restaurants with Table Booking: {:.2f}\".format(average_rating_with_table_booking))\n",
        "print(\"Average Rating of Restaurants without Table Booking: {:.2f}\".format(average_rating_without_table_booking))\n"
      ],
      "metadata": {
        "colab": {
          "base_uri": "https://localhost:8080/"
        },
        "id": "JMAM1p37GsXb",
        "outputId": "829c48e5-ec6d-4c9b-cef7-3dd877f84320"
      },
      "execution_count": 5,
      "outputs": [
        {
          "output_type": "stream",
          "name": "stdout",
          "text": [
            "\n",
            "Average Rating of Restaurants with Table Booking: 3.44\n",
            "Average Rating of Restaurants without Table Booking: 2.56\n"
          ]
        }
      ]
    },
    {
      "cell_type": "markdown",
      "source": [
        "**Printing Online Delivery Availability by Price Range**"
      ],
      "metadata": {
        "id": "tg2XPM9xGyV9"
      }
    },
    {
      "cell_type": "code",
      "source": [
        "online_delivery_by_price_range = df.groupby('Price range')['Has Online delivery'].value_counts(normalize=True).unstack().fillna(0)\n",
        "print(\"\\nAvailability of Online Delivery Among Restaurants with Different Price Ranges:\")\n",
        "print(online_delivery_by_price_range)\n"
      ],
      "metadata": {
        "colab": {
          "base_uri": "https://localhost:8080/"
        },
        "id": "6up6H7SdG3lm",
        "outputId": "47959391-cd1b-40e5-bba6-b9bb401a9755"
      },
      "execution_count": 6,
      "outputs": [
        {
          "output_type": "stream",
          "name": "stdout",
          "text": [
            "\n",
            "Availability of Online Delivery Among Restaurants with Different Price Ranges:\n",
            "Has Online delivery        No       Yes\n",
            "Price range                            \n",
            "1                    0.842259  0.157741\n",
            "2                    0.586894  0.413106\n",
            "3                    0.708097  0.291903\n",
            "4                    0.909556  0.090444\n"
          ]
        }
      ]
    },
    {
      "cell_type": "markdown",
      "source": [
        "**TASK:2 Price Range Analysis**"
      ],
      "metadata": {
        "id": "e9xBimY0HAh5"
      }
    },
    {
      "cell_type": "markdown",
      "source": [
        "**Importing Libraries**"
      ],
      "metadata": {
        "id": "cOK4xL2QHO0z"
      }
    },
    {
      "cell_type": "code",
      "source": [
        "import pandas as pd\n"
      ],
      "metadata": {
        "id": "8IKHdpqEHYY5"
      },
      "execution_count": 7,
      "outputs": []
    },
    {
      "cell_type": "markdown",
      "source": [
        "**Loading the Dataset**"
      ],
      "metadata": {
        "id": "A1REMcPeHaUC"
      }
    },
    {
      "cell_type": "code",
      "source": [
        "df = pd.read_csv(\"/content/Dataset .csv\")\n"
      ],
      "metadata": {
        "id": "QJ6RoIkbHda-"
      },
      "execution_count": 8,
      "outputs": []
    },
    {
      "cell_type": "markdown",
      "source": [
        "**Operation of Most Common Price Range**"
      ],
      "metadata": {
        "id": "Y2M8a8GCHina"
      }
    },
    {
      "cell_type": "code",
      "source": [
        "most_common_price_range = df['Price range'].mode()[0]\n",
        "print(\"Most Common Price Range Among All Restaurants: {}\".format(most_common_price_range))\n",
        "\n"
      ],
      "metadata": {
        "colab": {
          "base_uri": "https://localhost:8080/"
        },
        "id": "Gl9FWPDXHobJ",
        "outputId": "50b71bab-6faf-4c2d-eaca-a8985d71d0a9"
      },
      "execution_count": 10,
      "outputs": [
        {
          "output_type": "stream",
          "name": "stdout",
          "text": [
            "Most Common Price Range Among All Restaurants: 1\n"
          ]
        }
      ]
    },
    {
      "cell_type": "markdown",
      "source": [
        "**Operation of Average Rating by Price Range**"
      ],
      "metadata": {
        "id": "8_buQWoDH2K6"
      }
    },
    {
      "cell_type": "code",
      "source": [
        "average_rating_by_price_range = df.groupby('Price range')['Aggregate rating'].mean()\n",
        "print(\"\\nAverage Rating for Each Price Range:\")\n",
        "print(average_rating_by_price_range)\n"
      ],
      "metadata": {
        "colab": {
          "base_uri": "https://localhost:8080/"
        },
        "id": "uozA2fUsIHKj",
        "outputId": "1f4900dd-e853-4838-e8bf-26e207e5d670"
      },
      "execution_count": 11,
      "outputs": [
        {
          "output_type": "stream",
          "name": "stdout",
          "text": [
            "\n",
            "Average Rating for Each Price Range:\n",
            "Price range\n",
            "1    1.999887\n",
            "2    2.941054\n",
            "3    3.683381\n",
            "4    3.817918\n",
            "Name: Aggregate rating, dtype: float64\n"
          ]
        }
      ]
    },
    {
      "cell_type": "markdown",
      "source": [
        "**Operation of Color Representing the Highest Average Rating**"
      ],
      "metadata": {
        "id": "RwB7ci4QIOG6"
      }
    },
    {
      "cell_type": "code",
      "source": [
        "highest_average_rating_color = average_rating_by_price_range.idxmax()\n",
        "print(\"\\nColor Representing the Highest Average Rating Among Different Price Ranges: {}\".format(highest_average_rating_color))\n"
      ],
      "metadata": {
        "colab": {
          "base_uri": "https://localhost:8080/"
        },
        "id": "R45K1fJ5IUvO",
        "outputId": "4f57474e-1d6f-4ec4-8544-026dad746a10"
      },
      "execution_count": 12,
      "outputs": [
        {
          "output_type": "stream",
          "name": "stdout",
          "text": [
            "\n",
            "Color Representing the Highest Average Rating Among Different Price Ranges: 4\n"
          ]
        }
      ]
    },
    {
      "cell_type": "markdown",
      "source": [
        "**TASK:3 Feature Engineering**"
      ],
      "metadata": {
        "id": "0TrS-yhoIggG"
      }
    },
    {
      "cell_type": "markdown",
      "source": [
        "**Importing Libraries**"
      ],
      "metadata": {
        "id": "waOZvQs1ImJB"
      }
    },
    {
      "cell_type": "code",
      "source": [
        "import pandas as pd\n"
      ],
      "metadata": {
        "id": "ZwJ5jA3VI2Oi"
      },
      "execution_count": 13,
      "outputs": []
    },
    {
      "cell_type": "markdown",
      "source": [
        "**Loading the Dataset**"
      ],
      "metadata": {
        "id": "UDz92BVBI4ie"
      }
    },
    {
      "cell_type": "code",
      "source": [
        "df = pd.read_csv(\"/content/Dataset .csv\")\n"
      ],
      "metadata": {
        "id": "tlodVEPjI7zS"
      },
      "execution_count": 14,
      "outputs": []
    },
    {
      "cell_type": "markdown",
      "source": [
        "** operation of Mapping Categorical Columns to Numerical Values**"
      ],
      "metadata": {
        "id": "BIcu8vSOJANB"
      }
    },
    {
      "cell_type": "code",
      "source": [
        "df['Restaurant Name Length'] = df['Restaurant Name'].apply(len)\n",
        "df['Address Length'] = df['Address'].apply(len)\n",
        "df['Has Table Booking'] = df['Has Table booking'].map({'Yes': 1, 'No': 0})\n",
        "df['Has Online Delivery'] = df['Has Online delivery'].map({'Yes': 1, 'No': 0})\n",
        "df['Is Delivering Now'] = df['Is delivering now'].map({'Yes': 1, 'No': 0})\n",
        "df['Switch to Order Menu'] = df['Switch to order menu'].map({'Yes': 1, 'No': 0})\n"
      ],
      "metadata": {
        "id": "uyXdPGGhJFvJ"
      },
      "execution_count": 15,
      "outputs": []
    },
    {
      "cell_type": "markdown",
      "source": [
        "**Printing**"
      ],
      "metadata": {
        "id": "TT-o9KvqJRjf"
      }
    },
    {
      "cell_type": "code",
      "source": [
        "print(df.head())\n"
      ],
      "metadata": {
        "colab": {
          "base_uri": "https://localhost:8080/"
        },
        "id": "iaR16hwcJVeL",
        "outputId": "4d712591-da3e-4f74-9a21-c07553e579ef"
      },
      "execution_count": 16,
      "outputs": [
        {
          "output_type": "stream",
          "name": "stdout",
          "text": [
            "   Restaurant ID         Restaurant Name  Country Code              City  \\\n",
            "0        6317637        Le Petit Souffle           162       Makati City   \n",
            "1        6304287        Izakaya Kikufuji           162       Makati City   \n",
            "2        6300002  Heat - Edsa Shangri-La           162  Mandaluyong City   \n",
            "3        6318506                    Ooma           162  Mandaluyong City   \n",
            "4        6314302             Sambo Kojin           162  Mandaluyong City   \n",
            "\n",
            "                                             Address  \\\n",
            "0  Third Floor, Century City Mall, Kalayaan Avenu...   \n",
            "1  Little Tokyo, 2277 Chino Roces Avenue, Legaspi...   \n",
            "2  Edsa Shangri-La, 1 Garden Way, Ortigas, Mandal...   \n",
            "3  Third Floor, Mega Fashion Hall, SM Megamall, O...   \n",
            "4  Third Floor, Mega Atrium, SM Megamall, Ortigas...   \n",
            "\n",
            "                                     Locality  \\\n",
            "0   Century City Mall, Poblacion, Makati City   \n",
            "1  Little Tokyo, Legaspi Village, Makati City   \n",
            "2  Edsa Shangri-La, Ortigas, Mandaluyong City   \n",
            "3      SM Megamall, Ortigas, Mandaluyong City   \n",
            "4      SM Megamall, Ortigas, Mandaluyong City   \n",
            "\n",
            "                                    Locality Verbose   Longitude   Latitude  \\\n",
            "0  Century City Mall, Poblacion, Makati City, Mak...  121.027535  14.565443   \n",
            "1  Little Tokyo, Legaspi Village, Makati City, Ma...  121.014101  14.553708   \n",
            "2  Edsa Shangri-La, Ortigas, Mandaluyong City, Ma...  121.056831  14.581404   \n",
            "3  SM Megamall, Ortigas, Mandaluyong City, Mandal...  121.056475  14.585318   \n",
            "4  SM Megamall, Ortigas, Mandaluyong City, Mandal...  121.057508  14.584450   \n",
            "\n",
            "                           Cuisines  ...  Aggregate rating Rating color  \\\n",
            "0        French, Japanese, Desserts  ...               4.8   Dark Green   \n",
            "1                          Japanese  ...               4.5   Dark Green   \n",
            "2  Seafood, Asian, Filipino, Indian  ...               4.4        Green   \n",
            "3                   Japanese, Sushi  ...               4.9   Dark Green   \n",
            "4                  Japanese, Korean  ...               4.8   Dark Green   \n",
            "\n",
            "  Rating text Votes Restaurant Name Length Address Length  Has Table Booking  \\\n",
            "0   Excellent   314                     16             71                  1   \n",
            "1   Excellent   591                     16             67                  1   \n",
            "2   Very Good   270                     22             56                  1   \n",
            "3   Excellent   365                      4             70                  0   \n",
            "4   Excellent   229                     11             64                  1   \n",
            "\n",
            "   Has Online Delivery Is Delivering Now Switch to Order Menu  \n",
            "0                    0                 0                    0  \n",
            "1                    0                 0                    0  \n",
            "2                    0                 0                    0  \n",
            "3                    0                 0                    0  \n",
            "4                    0                 0                    0  \n",
            "\n",
            "[5 rows x 27 columns]\n"
          ]
        }
      ]
    }
  ]
}