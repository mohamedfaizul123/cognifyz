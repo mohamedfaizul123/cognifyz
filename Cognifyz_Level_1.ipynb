{
  "nbformat": 4,
  "nbformat_minor": 0,
  "metadata": {
    "colab": {
      "provenance": [],
      "collapsed_sections": [
        "GKUXD6BZ9LA_"
      ]
    },
    "kernelspec": {
      "name": "python3",
      "display_name": "Python 3"
    },
    "language_info": {
      "name": "python"
    }
  },
  "cells": [
    {
      "cell_type": "markdown",
      "source": [
        "TASK:1 **Data** **Exploration** **and** **Preprocessing**"
      ],
      "metadata": {
        "id": "GKUXD6BZ9LA_"
      }
    },
    {
      "cell_type": "markdown",
      "source": [
        "**Importing** **Libraries**"
      ],
      "metadata": {
        "id": "9d9RG8zE-Vtm"
      }
    },
    {
      "cell_type": "code",
      "source": [
        "import pandas as pd\n"
      ],
      "metadata": {
        "id": "R9mbR5CW9s6R"
      },
      "execution_count": 1,
      "outputs": []
    },
    {
      "cell_type": "markdown",
      "source": [
        "**Loading** **the** **Dataset**"
      ],
      "metadata": {
        "id": "x0Tmy2Rh-hmw"
      }
    },
    {
      "cell_type": "code",
      "source": [
        "df = pd.read_csv(\"/content/Dataset .csv\")\n"
      ],
      "metadata": {
        "id": "AitKh4Ye-UZk"
      },
      "execution_count": 2,
      "outputs": []
    },
    {
      "cell_type": "markdown",
      "source": [
        "**Printing** **Number** **of** **Rows** **and** **Columns**"
      ],
      "metadata": {
        "id": "E0TDQzlw_JMV"
      }
    },
    {
      "cell_type": "code",
      "source": [
        "num_rows, num_cols = df.shape\n",
        "print(\"Number of rows:\", num_rows)\n",
        "print(\"Number of columns:\", num_cols)\n"
      ],
      "metadata": {
        "colab": {
          "base_uri": "https://localhost:8080/"
        },
        "id": "gV743mQv_BM1",
        "outputId": "51be5fa0-65d0-49eb-a621-15f5f92c497e"
      },
      "execution_count": 3,
      "outputs": [
        {
          "output_type": "stream",
          "name": "stdout",
          "text": [
            "Number of rows: 9551\n",
            "Number of columns: 21\n"
          ]
        }
      ]
    },
    {
      "cell_type": "markdown",
      "source": [
        "**Checking for Missing Values**"
      ],
      "metadata": {
        "id": "FwAXsdSa_R1v"
      }
    },
    {
      "cell_type": "code",
      "source": [
        "missing_values = df.isnull().sum()\n",
        "print(\"\\nMissing Values in Each Column:\")\n",
        "print(missing_values)\n"
      ],
      "metadata": {
        "colab": {
          "base_uri": "https://localhost:8080/"
        },
        "id": "_2V4qB6C_as3",
        "outputId": "e6b2c752-c257-4464-9828-ce13dc597cf7"
      },
      "execution_count": 4,
      "outputs": [
        {
          "output_type": "stream",
          "name": "stdout",
          "text": [
            "\n",
            "Missing Values in Each Column:\n",
            "Restaurant ID           0\n",
            "Restaurant Name         0\n",
            "Country Code            0\n",
            "City                    0\n",
            "Address                 0\n",
            "Locality                0\n",
            "Locality Verbose        0\n",
            "Longitude               0\n",
            "Latitude                0\n",
            "Cuisines                9\n",
            "Average Cost for two    0\n",
            "Currency                0\n",
            "Has Table booking       0\n",
            "Has Online delivery     0\n",
            "Is delivering now       0\n",
            "Switch to order menu    0\n",
            "Price range             0\n",
            "Aggregate rating        0\n",
            "Rating color            0\n",
            "Rating text             0\n",
            "Votes                   0\n",
            "dtype: int64\n"
          ]
        }
      ]
    },
    {
      "cell_type": "markdown",
      "source": [
        "**Aggregate rating distribution**"
      ],
      "metadata": {
        "id": "VJ4LaRcW_lZm"
      }
    },
    {
      "cell_type": "code",
      "source": [
        "rating_distribution = df['Aggregate rating'].value_counts()\n",
        "print(\"\\nDistribution of Aggregate Rating:\")\n",
        "print(rating_distribution)\n"
      ],
      "metadata": {
        "colab": {
          "base_uri": "https://localhost:8080/"
        },
        "id": "3gFNgbU7_0VF",
        "outputId": "cc6dbcbe-d617-4418-f4cb-1cf13a0bfa7f"
      },
      "execution_count": 5,
      "outputs": [
        {
          "output_type": "stream",
          "name": "stdout",
          "text": [
            "\n",
            "Distribution of Aggregate Rating:\n",
            "Aggregate rating\n",
            "0.0    2148\n",
            "3.2     522\n",
            "3.1     519\n",
            "3.4     498\n",
            "3.3     483\n",
            "3.5     480\n",
            "3.0     468\n",
            "3.6     458\n",
            "3.7     427\n",
            "3.8     400\n",
            "2.9     381\n",
            "3.9     335\n",
            "2.8     315\n",
            "4.1     274\n",
            "4.0     266\n",
            "2.7     250\n",
            "4.2     221\n",
            "2.6     191\n",
            "4.3     174\n",
            "4.4     144\n",
            "2.5     110\n",
            "4.5      95\n",
            "2.4      87\n",
            "4.6      78\n",
            "4.9      61\n",
            "2.3      47\n",
            "4.7      42\n",
            "2.2      27\n",
            "4.8      25\n",
            "2.1      15\n",
            "2.0       7\n",
            "1.9       2\n",
            "1.8       1\n",
            "Name: count, dtype: int64\n"
          ]
        }
      ]
    },
    {
      "cell_type": "markdown",
      "source": [
        "**TASK:2 Descriptive Analysis**"
      ],
      "metadata": {
        "id": "WPmKIb-QANG4"
      }
    },
    {
      "cell_type": "markdown",
      "source": [
        "**Importing Libraries**"
      ],
      "metadata": {
        "id": "wR3zC0glAX2K"
      }
    },
    {
      "cell_type": "code",
      "source": [
        "import pandas as pd\n"
      ],
      "metadata": {
        "id": "JMw1GtDIBFTX"
      },
      "execution_count": 6,
      "outputs": []
    },
    {
      "cell_type": "markdown",
      "source": [
        "**Loading the Dataset**"
      ],
      "metadata": {
        "id": "my64n2ZYBKvK"
      }
    },
    {
      "cell_type": "code",
      "source": [
        "df = pd.read_csv(\"/content/Dataset .csv\")\n"
      ],
      "metadata": {
        "id": "Op8bUbcRBSjF"
      },
      "execution_count": 8,
      "outputs": []
    },
    {
      "cell_type": "markdown",
      "source": [
        "**Perform operations on the loaded dataset**"
      ],
      "metadata": {
        "id": "x-Cl2-LSB0Nx"
      }
    },
    {
      "cell_type": "code",
      "source": [
        "numerical_stats = df.describe()\n",
        "country_distribution = df['Country Code'].value_counts()\n",
        "city_distribution = df['City'].value_counts()\n",
        "cuisine_distribution = df['Cuisines'].value_counts()\n",
        "top_cuisines = df['Cuisines'].value_counts().head(10)\n",
        "top_cities = df['City'].value_counts().head(10)\n"
      ],
      "metadata": {
        "id": "wHcGaoH_BhiX"
      },
      "execution_count": 9,
      "outputs": []
    },
    {
      "cell_type": "markdown",
      "source": [
        "**Printing Results**"
      ],
      "metadata": {
        "id": "ccJRVZIuDBxR"
      }
    },
    {
      "cell_type": "code",
      "source": [
        "print(\"Basic Statistical Measures for Numerical Columns:\")\n",
        "print(numerical_stats)\n",
        "print(\"\\nDistribution of Country Codes:\")\n",
        "print(country_distribution)\n",
        "print(\"\\nDistribution of Cities:\")\n",
        "print(city_distribution)\n",
        "print(\"\\nDistribution of Cuisines:\")\n",
        "print(cuisine_distribution)\n",
        "print(\"\\nTop 10 Cuisines:\")\n",
        "print(top_cuisines)\n",
        "print(\"\\nTop 10 Cities with the Highest Number of Restaurants:\")\n",
        "print(top_cities)\n"
      ],
      "metadata": {
        "colab": {
          "base_uri": "https://localhost:8080/"
        },
        "id": "6d7rDWpWDI89",
        "outputId": "c05a8072-42dc-4078-ebba-25805d0479c1"
      },
      "execution_count": 10,
      "outputs": [
        {
          "output_type": "stream",
          "name": "stdout",
          "text": [
            "Basic Statistical Measures for Numerical Columns:\n",
            "       Restaurant ID  Country Code    Longitude     Latitude  \\\n",
            "count   9.551000e+03   9551.000000  9551.000000  9551.000000   \n",
            "mean    9.051128e+06     18.365616    64.126574    25.854381   \n",
            "std     8.791521e+06     56.750546    41.467058    11.007935   \n",
            "min     5.300000e+01      1.000000  -157.948486   -41.330428   \n",
            "25%     3.019625e+05      1.000000    77.081343    28.478713   \n",
            "50%     6.004089e+06      1.000000    77.191964    28.570469   \n",
            "75%     1.835229e+07      1.000000    77.282006    28.642758   \n",
            "max     1.850065e+07    216.000000   174.832089    55.976980   \n",
            "\n",
            "       Average Cost for two  Price range  Aggregate rating         Votes  \n",
            "count           9551.000000  9551.000000       9551.000000   9551.000000  \n",
            "mean            1199.210763     1.804837          2.666370    156.909748  \n",
            "std            16121.183073     0.905609          1.516378    430.169145  \n",
            "min                0.000000     1.000000          0.000000      0.000000  \n",
            "25%              250.000000     1.000000          2.500000      5.000000  \n",
            "50%              400.000000     2.000000          3.200000     31.000000  \n",
            "75%              700.000000     2.000000          3.700000    131.000000  \n",
            "max           800000.000000     4.000000          4.900000  10934.000000  \n",
            "\n",
            "Distribution of Country Codes:\n",
            "Country Code\n",
            "1      8652\n",
            "216     434\n",
            "215      80\n",
            "30       60\n",
            "214      60\n",
            "189      60\n",
            "148      40\n",
            "208      34\n",
            "14       24\n",
            "162      22\n",
            "94       21\n",
            "184      20\n",
            "166      20\n",
            "191      20\n",
            "37        4\n",
            "Name: count, dtype: int64\n",
            "\n",
            "Distribution of Cities:\n",
            "City\n",
            "New Delhi           5473\n",
            "Gurgaon             1118\n",
            "Noida               1080\n",
            "Faridabad            251\n",
            "Ghaziabad             25\n",
            "                    ... \n",
            "Panchkula              1\n",
            "Mc Millan              1\n",
            "Mayfield               1\n",
            "Macedon                1\n",
            "Vineland Station       1\n",
            "Name: count, Length: 141, dtype: int64\n",
            "\n",
            "Distribution of Cuisines:\n",
            "Cuisines\n",
            "North Indian                                             936\n",
            "North Indian, Chinese                                    511\n",
            "Chinese                                                  354\n",
            "Fast Food                                                354\n",
            "North Indian, Mughlai                                    334\n",
            "                                                        ... \n",
            "Bengali, Fast Food                                         1\n",
            "North Indian, Rajasthani, Asian                            1\n",
            "Chinese, Thai, Malaysian, Indonesian                       1\n",
            "Bakery, Desserts, North Indian, Bengali, South Indian      1\n",
            "Italian, World Cuisine                                     1\n",
            "Name: count, Length: 1825, dtype: int64\n",
            "\n",
            "Top 10 Cuisines:\n",
            "Cuisines\n",
            "North Indian                      936\n",
            "North Indian, Chinese             511\n",
            "Chinese                           354\n",
            "Fast Food                         354\n",
            "North Indian, Mughlai             334\n",
            "Cafe                              299\n",
            "Bakery                            218\n",
            "North Indian, Mughlai, Chinese    197\n",
            "Bakery, Desserts                  170\n",
            "Street Food                       149\n",
            "Name: count, dtype: int64\n",
            "\n",
            "Top 10 Cities with the Highest Number of Restaurants:\n",
            "City\n",
            "New Delhi       5473\n",
            "Gurgaon         1118\n",
            "Noida           1080\n",
            "Faridabad        251\n",
            "Ghaziabad         25\n",
            "Bhubaneshwar      21\n",
            "Amritsar          21\n",
            "Ahmedabad         21\n",
            "Lucknow           21\n",
            "Guwahati          21\n",
            "Name: count, dtype: int64\n"
          ]
        }
      ]
    },
    {
      "cell_type": "markdown",
      "source": [
        "**TASK:3 Geospatial Analysis**"
      ],
      "metadata": {
        "id": "KBOSenhdDZnk"
      }
    },
    {
      "cell_type": "markdown",
      "source": [
        "**Importing Libraries**"
      ],
      "metadata": {
        "id": "I9C9VHm7Dmmh"
      }
    },
    {
      "cell_type": "code",
      "source": [
        "import pandas as pd\n",
        "import folium\n",
        "from folium.plugins import MarkerCluster\n"
      ],
      "metadata": {
        "id": "1g5GFlH5D7oG"
      },
      "execution_count": 11,
      "outputs": []
    },
    {
      "cell_type": "markdown",
      "source": [
        "**Loading the Dataset**"
      ],
      "metadata": {
        "id": "SPr2uuk3EA2u"
      }
    },
    {
      "cell_type": "code",
      "source": [
        "df = pd.read_csv(\"/content/Dataset .csv\")\n"
      ],
      "metadata": {
        "id": "univxCV3EG61"
      },
      "execution_count": 12,
      "outputs": []
    },
    {
      "cell_type": "markdown",
      "source": [
        "**Calculating Center Coordinates**"
      ],
      "metadata": {
        "id": "CYNfxaiGES1a"
      }
    },
    {
      "cell_type": "code",
      "source": [
        "center_lat = df['Latitude'].mean()\n",
        "center_long = df['Longitude'].mean()\n"
      ],
      "metadata": {
        "id": "6Qlyu7rQEZGa"
      },
      "execution_count": 13,
      "outputs": []
    },
    {
      "cell_type": "markdown",
      "source": [
        "**Creating a Folium Map**"
      ],
      "metadata": {
        "id": "MqK0j69PEf3K"
      }
    },
    {
      "cell_type": "code",
      "source": [
        "m = folium.Map(location=[center_lat, center_long], zoom_start=10)\n",
        "marker_cluster = MarkerCluster().add_to(m)\n",
        "for idx, row in df.iterrows():\n",
        "    folium.Marker([row['Latitude'], row['Longitude']], popup=row['Restaurant Name']).add_to(marker_cluster)\n",
        "m.save(\"restaurant_locations.html\")\n",
        "city_distribution = df['City'].value_counts()\n",
        "country_distribution = df['Country Code'].value_counts()\n"
      ],
      "metadata": {
        "id": "8LJVSpByEh8d"
      },
      "execution_count": 14,
      "outputs": []
    },
    {
      "cell_type": "markdown",
      "source": [
        "**Printing Distribution Information**"
      ],
      "metadata": {
        "id": "qW4AWFOwExtV"
      }
    },
    {
      "cell_type": "code",
      "source": [
        "print(\"Distribution of Restaurants Across Different Cities:\")\n",
        "print(city_distribution)\n",
        "print(\"\\nDistribution of Restaurants Across Different Countries:\")\n",
        "print(country_distribution)\n"
      ],
      "metadata": {
        "colab": {
          "base_uri": "https://localhost:8080/"
        },
        "id": "lsOlrGZTE21o",
        "outputId": "5bf6f9ee-0754-4d65-a087-5df36f45f346"
      },
      "execution_count": 15,
      "outputs": [
        {
          "output_type": "stream",
          "name": "stdout",
          "text": [
            "Distribution of Restaurants Across Different Cities:\n",
            "City\n",
            "New Delhi           5473\n",
            "Gurgaon             1118\n",
            "Noida               1080\n",
            "Faridabad            251\n",
            "Ghaziabad             25\n",
            "                    ... \n",
            "Panchkula              1\n",
            "Mc Millan              1\n",
            "Mayfield               1\n",
            "Macedon                1\n",
            "Vineland Station       1\n",
            "Name: count, Length: 141, dtype: int64\n",
            "\n",
            "Distribution of Restaurants Across Different Countries:\n",
            "Country Code\n",
            "1      8652\n",
            "216     434\n",
            "215      80\n",
            "30       60\n",
            "214      60\n",
            "189      60\n",
            "148      40\n",
            "208      34\n",
            "14       24\n",
            "162      22\n",
            "94       21\n",
            "184      20\n",
            "166      20\n",
            "191      20\n",
            "37        4\n",
            "Name: count, dtype: int64\n"
          ]
        }
      ]
    },
    {
      "cell_type": "markdown",
      "source": [
        "**Printing Correlation Information**"
      ],
      "metadata": {
        "id": "d5e2Z4C8E6OI"
      }
    },
    {
      "cell_type": "code",
      "source": [
        "correlation = df[['Latitude', 'Longitude', 'Aggregate rating']].corr()\n",
        "print(\"\\nCorrelation Between Restaurant's Location and Rating:\")\n",
        "print(correlation)\n"
      ],
      "metadata": {
        "colab": {
          "base_uri": "https://localhost:8080/"
        },
        "id": "Jp7-i058E_0W",
        "outputId": "8a20146d-91bd-450f-ff6c-8ce95641ec79"
      },
      "execution_count": 16,
      "outputs": [
        {
          "output_type": "stream",
          "name": "stdout",
          "text": [
            "\n",
            "Correlation Between Restaurant's Location and Rating:\n",
            "                  Latitude  Longitude  Aggregate rating\n",
            "Latitude          1.000000   0.043207          0.000516\n",
            "Longitude         0.043207   1.000000         -0.116818\n",
            "Aggregate rating  0.000516  -0.116818          1.000000\n"
          ]
        }
      ]
    }
  ]
}